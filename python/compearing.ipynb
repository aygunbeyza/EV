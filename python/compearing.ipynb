{
 "cells": [
  {
   "cell_type": "code",
   "execution_count": 5,
   "metadata": {},
   "outputs": [],
   "source": [
    "# comparing two top100s\n",
    "import pandas as pd\n",
    "import numpy as np\n",
    "\n",
    "luca = pd.read_csv('/Users/beyzaaygun/Desktop/Bioinformatic/GITHUB/EV/EV/python/luca_top_100_genes_with_correlations.csv', index_col=0) \n",
    "luca2= pd.read_csv('/Users/beyzaaygun/Desktop/Bioinformatic/GITHUB/EV/EV/python/luca2_top_100_genes_with_correlations.csv', index_col=0) "
   ]
  },
  {
   "cell_type": "code",
   "execution_count": 6,
   "metadata": {},
   "outputs": [
    {
     "name": "stdout",
     "output_type": "stream",
     "text": [
      "Common symbols:\n",
      "IGHV3-74\n"
     ]
    }
   ],
   "source": [
    "# Get the common symbols\n",
    "common_symbols = set(luca['symbol']).intersection(set(luca2['symbol']))\n",
    "\n",
    "# Print the common symbols\n",
    "print(\"Common symbols:\")\n",
    "for symbol in common_symbols:\n",
    "    print(symbol)"
   ]
  }
 ],
 "metadata": {
  "kernelspec": {
   "display_name": ".venv",
   "language": "python",
   "name": "python3"
  },
  "language_info": {
   "codemirror_mode": {
    "name": "ipython",
    "version": 3
   },
   "file_extension": ".py",
   "mimetype": "text/x-python",
   "name": "python",
   "nbconvert_exporter": "python",
   "pygments_lexer": "ipython3",
   "version": "3.11.2"
  }
 },
 "nbformat": 4,
 "nbformat_minor": 2
}
