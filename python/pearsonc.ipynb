{
 "cells": [
  {
   "cell_type": "code",
   "execution_count": 10,
   "metadata": {},
   "outputs": [
    {
     "ename": "ParserError",
     "evalue": "Error tokenizing data. C error: Calling read(nbytes) on source failed. Try engine='python'.",
     "output_type": "error",
     "traceback": [
      "\u001b[0;31m---------------------------------------------------------------------------\u001b[0m",
      "\u001b[0;31mParserError\u001b[0m                               Traceback (most recent call last)",
      "Cell \u001b[0;32mIn[10], line 6\u001b[0m\n\u001b[1;32m      2\u001b[0m \u001b[38;5;28;01mimport\u001b[39;00m \u001b[38;5;21;01mnumpy\u001b[39;00m \u001b[38;5;28;01mas\u001b[39;00m \u001b[38;5;21;01mnp\u001b[39;00m\n\u001b[1;32m      5\u001b[0m votes_df_pbmc \u001b[38;5;241m=\u001b[39m pd\u001b[38;5;241m.\u001b[39mread_csv(\u001b[38;5;124m'\u001b[39m\u001b[38;5;124mvotes_df_pbmc.csv\u001b[39m\u001b[38;5;124m'\u001b[39m, index_col\u001b[38;5;241m=\u001b[39m\u001b[38;5;241m0\u001b[39m) \n\u001b[0;32m----> 6\u001b[0m pbmc \u001b[38;5;241m=\u001b[39m \u001b[43mpd\u001b[49m\u001b[38;5;241;43m.\u001b[39;49m\u001b[43mread_csv\u001b[49m\u001b[43m(\u001b[49m\u001b[38;5;124;43m'\u001b[39;49m\u001b[38;5;124;43mnormalized_dataset.csv\u001b[39;49m\u001b[38;5;124;43m'\u001b[39;49m\u001b[43m,\u001b[49m\u001b[43m \u001b[49m\u001b[43mindex_col\u001b[49m\u001b[38;5;241;43m=\u001b[39;49m\u001b[38;5;241;43m0\u001b[39;49m\u001b[43m)\u001b[49m \n\u001b[1;32m      8\u001b[0m pbmc \u001b[38;5;241m=\u001b[39m pbmc\u001b[38;5;241m.\u001b[39mtranspose()\n",
      "File \u001b[0;32m~/Desktop/Bioinformatic/EV/2023-2024/python/randomforest/lib/python3.11/site-packages/pandas/io/parsers/readers.py:1026\u001b[0m, in \u001b[0;36mread_csv\u001b[0;34m(filepath_or_buffer, sep, delimiter, header, names, index_col, usecols, dtype, engine, converters, true_values, false_values, skipinitialspace, skiprows, skipfooter, nrows, na_values, keep_default_na, na_filter, verbose, skip_blank_lines, parse_dates, infer_datetime_format, keep_date_col, date_parser, date_format, dayfirst, cache_dates, iterator, chunksize, compression, thousands, decimal, lineterminator, quotechar, quoting, doublequote, escapechar, comment, encoding, encoding_errors, dialect, on_bad_lines, delim_whitespace, low_memory, memory_map, float_precision, storage_options, dtype_backend)\u001b[0m\n\u001b[1;32m   1013\u001b[0m kwds_defaults \u001b[38;5;241m=\u001b[39m _refine_defaults_read(\n\u001b[1;32m   1014\u001b[0m     dialect,\n\u001b[1;32m   1015\u001b[0m     delimiter,\n\u001b[0;32m   (...)\u001b[0m\n\u001b[1;32m   1022\u001b[0m     dtype_backend\u001b[38;5;241m=\u001b[39mdtype_backend,\n\u001b[1;32m   1023\u001b[0m )\n\u001b[1;32m   1024\u001b[0m kwds\u001b[38;5;241m.\u001b[39mupdate(kwds_defaults)\n\u001b[0;32m-> 1026\u001b[0m \u001b[38;5;28;01mreturn\u001b[39;00m \u001b[43m_read\u001b[49m\u001b[43m(\u001b[49m\u001b[43mfilepath_or_buffer\u001b[49m\u001b[43m,\u001b[49m\u001b[43m \u001b[49m\u001b[43mkwds\u001b[49m\u001b[43m)\u001b[49m\n",
      "File \u001b[0;32m~/Desktop/Bioinformatic/EV/2023-2024/python/randomforest/lib/python3.11/site-packages/pandas/io/parsers/readers.py:626\u001b[0m, in \u001b[0;36m_read\u001b[0;34m(filepath_or_buffer, kwds)\u001b[0m\n\u001b[1;32m    623\u001b[0m     \u001b[38;5;28;01mreturn\u001b[39;00m parser\n\u001b[1;32m    625\u001b[0m \u001b[38;5;28;01mwith\u001b[39;00m parser:\n\u001b[0;32m--> 626\u001b[0m     \u001b[38;5;28;01mreturn\u001b[39;00m \u001b[43mparser\u001b[49m\u001b[38;5;241;43m.\u001b[39;49m\u001b[43mread\u001b[49m\u001b[43m(\u001b[49m\u001b[43mnrows\u001b[49m\u001b[43m)\u001b[49m\n",
      "File \u001b[0;32m~/Desktop/Bioinformatic/EV/2023-2024/python/randomforest/lib/python3.11/site-packages/pandas/io/parsers/readers.py:1923\u001b[0m, in \u001b[0;36mTextFileReader.read\u001b[0;34m(self, nrows)\u001b[0m\n\u001b[1;32m   1916\u001b[0m nrows \u001b[38;5;241m=\u001b[39m validate_integer(\u001b[38;5;124m\"\u001b[39m\u001b[38;5;124mnrows\u001b[39m\u001b[38;5;124m\"\u001b[39m, nrows)\n\u001b[1;32m   1917\u001b[0m \u001b[38;5;28;01mtry\u001b[39;00m:\n\u001b[1;32m   1918\u001b[0m     \u001b[38;5;66;03m# error: \"ParserBase\" has no attribute \"read\"\u001b[39;00m\n\u001b[1;32m   1919\u001b[0m     (\n\u001b[1;32m   1920\u001b[0m         index,\n\u001b[1;32m   1921\u001b[0m         columns,\n\u001b[1;32m   1922\u001b[0m         col_dict,\n\u001b[0;32m-> 1923\u001b[0m     ) \u001b[38;5;241m=\u001b[39m \u001b[38;5;28;43mself\u001b[39;49m\u001b[38;5;241;43m.\u001b[39;49m\u001b[43m_engine\u001b[49m\u001b[38;5;241;43m.\u001b[39;49m\u001b[43mread\u001b[49m\u001b[43m(\u001b[49m\u001b[43m  \u001b[49m\u001b[38;5;66;43;03m# type: ignore[attr-defined]\u001b[39;49;00m\n\u001b[1;32m   1924\u001b[0m \u001b[43m        \u001b[49m\u001b[43mnrows\u001b[49m\n\u001b[1;32m   1925\u001b[0m \u001b[43m    \u001b[49m\u001b[43m)\u001b[49m\n\u001b[1;32m   1926\u001b[0m \u001b[38;5;28;01mexcept\u001b[39;00m \u001b[38;5;167;01mException\u001b[39;00m:\n\u001b[1;32m   1927\u001b[0m     \u001b[38;5;28mself\u001b[39m\u001b[38;5;241m.\u001b[39mclose()\n",
      "File \u001b[0;32m~/Desktop/Bioinformatic/EV/2023-2024/python/randomforest/lib/python3.11/site-packages/pandas/io/parsers/c_parser_wrapper.py:234\u001b[0m, in \u001b[0;36mCParserWrapper.read\u001b[0;34m(self, nrows)\u001b[0m\n\u001b[1;32m    232\u001b[0m \u001b[38;5;28;01mtry\u001b[39;00m:\n\u001b[1;32m    233\u001b[0m     \u001b[38;5;28;01mif\u001b[39;00m \u001b[38;5;28mself\u001b[39m\u001b[38;5;241m.\u001b[39mlow_memory:\n\u001b[0;32m--> 234\u001b[0m         chunks \u001b[38;5;241m=\u001b[39m \u001b[38;5;28;43mself\u001b[39;49m\u001b[38;5;241;43m.\u001b[39;49m\u001b[43m_reader\u001b[49m\u001b[38;5;241;43m.\u001b[39;49m\u001b[43mread_low_memory\u001b[49m\u001b[43m(\u001b[49m\u001b[43mnrows\u001b[49m\u001b[43m)\u001b[49m\n\u001b[1;32m    235\u001b[0m         \u001b[38;5;66;03m# destructive to chunks\u001b[39;00m\n\u001b[1;32m    236\u001b[0m         data \u001b[38;5;241m=\u001b[39m _concatenate_chunks(chunks)\n",
      "File \u001b[0;32mparsers.pyx:838\u001b[0m, in \u001b[0;36mpandas._libs.parsers.TextReader.read_low_memory\u001b[0;34m()\u001b[0m\n",
      "File \u001b[0;32mparsers.pyx:905\u001b[0m, in \u001b[0;36mpandas._libs.parsers.TextReader._read_rows\u001b[0;34m()\u001b[0m\n",
      "File \u001b[0;32mparsers.pyx:874\u001b[0m, in \u001b[0;36mpandas._libs.parsers.TextReader._tokenize_rows\u001b[0;34m()\u001b[0m\n",
      "File \u001b[0;32mparsers.pyx:891\u001b[0m, in \u001b[0;36mpandas._libs.parsers.TextReader._check_tokenize_status\u001b[0;34m()\u001b[0m\n",
      "File \u001b[0;32mparsers.pyx:2061\u001b[0m, in \u001b[0;36mpandas._libs.parsers.raise_parser_error\u001b[0;34m()\u001b[0m\n",
      "\u001b[0;31mParserError\u001b[0m: Error tokenizing data. C error: Calling read(nbytes) on source failed. Try engine='python'."
     ]
    }
   ],
   "source": [
    "import pandas as pd\n",
    "import numpy as np\n",
    "\n",
    "\n",
    "votes_df_pbmc = pd.read_csv('votes_df_pbmc.csv', index_col=0) \n",
    "pbmc = pd.read_csv('normalized_dataset.csv', index_col=0) \n",
    "\n",
    "pbmc = pbmc.transpose()\n"
   ]
  },
  {
   "cell_type": "code",
   "execution_count": 2,
   "metadata": {},
   "outputs": [],
   "source": [
    "\n",
    "votes_df_pbmc.drop(columns=['negative'], inplace=True)"
   ]
  },
  {
   "cell_type": "code",
   "execution_count": 3,
   "metadata": {},
   "outputs": [
    {
     "name": "stdout",
     "output_type": "stream",
     "text": [
      "                        positive\n",
      "C26_AAACCCACAAGTGACG-1      0.47\n",
      "C26_AAACCCATCAATCGGT-1      0.42\n",
      "C26_AAACCCATCGAACGGA-1      0.15\n",
      "C26_AAACGAACAACGATTC-1      0.25\n",
      "C26_AAACGAACAAGTGGGT-1      0.67\n",
      "...                          ...\n",
      "C27_TTTGGTTTCTGGGCCA-1      0.54\n",
      "C27_TTTGTTGAGCAGCGAT-1      0.11\n",
      "C27_TTTGTTGGTGGATCAG-1      0.51\n",
      "C27_TTTGTTGTCAGCGGAA-1      0.47\n",
      "C27_TTTGTTGTCTTGTTAC-1      0.42\n",
      "\n",
      "[9198 rows x 1 columns]\n"
     ]
    }
   ],
   "source": [
    "print(votes_df_pbmc)\n"
   ]
  },
  {
   "cell_type": "code",
   "execution_count": 4,
   "metadata": {},
   "outputs": [
    {
     "name": "stdout",
     "output_type": "stream",
     "text": [
      "                           NOC2L    KLHL17  PLEKHN1  HES4     ISG15  AGRN  \\\n",
      "C26_AAACCCACAAGTGACG-1  0.000000  0.000000      0.0   0.0  1.098612   0.0   \n",
      "C26_AAACCCATCAATCGGT-1  0.000000  0.000000      0.0   0.0  0.000000   0.0   \n",
      "C26_AAACCCATCGAACGGA-1  0.000000  0.000000      0.0   0.0  1.098612   0.0   \n",
      "C26_AAACGAACAACGATTC-1  0.693147  0.000000      0.0   0.0  0.693147   0.0   \n",
      "C26_AAACGAACAAGTGGGT-1  0.000000  0.000000      0.0   0.0  0.693147   0.0   \n",
      "...                          ...       ...      ...   ...       ...   ...   \n",
      "C27_TTTGGTTTCTGGGCCA-1  0.000000  0.000000      0.0   0.0  0.000000   0.0   \n",
      "C27_TTTGTTGAGCAGCGAT-1  0.000000  0.000000      0.0   0.0  0.000000   0.0   \n",
      "C27_TTTGTTGGTGGATCAG-1  0.693147  0.000000      0.0   0.0  0.000000   0.0   \n",
      "C27_TTTGTTGTCAGCGGAA-1  0.000000  0.000000      0.0   0.0  0.000000   0.0   \n",
      "C27_TTTGTTGTCTTGTTAC-1  0.000000  0.693147      0.0   0.0  0.000000   0.0   \n",
      "\n",
      "                        C1orf159  TTLL10  TNFRSF18  TNFRSF4  ...  FAM83F  \\\n",
      "C26_AAACCCACAAGTGACG-1  0.000000     0.0  0.000000      0.0  ...     0.0   \n",
      "C26_AAACCCATCAATCGGT-1  0.000000     0.0  0.000000      0.0  ...     0.0   \n",
      "C26_AAACCCATCGAACGGA-1  0.000000     0.0  0.000000      0.0  ...     0.0   \n",
      "C26_AAACGAACAACGATTC-1  0.000000     0.0  0.000000      0.0  ...     0.0   \n",
      "C26_AAACGAACAAGTGGGT-1  0.000000     0.0  0.000000      0.0  ...     0.0   \n",
      "...                          ...     ...       ...      ...  ...     ...   \n",
      "C27_TTTGGTTTCTGGGCCA-1  0.000000     0.0  0.000000      0.0  ...     0.0   \n",
      "C27_TTTGTTGAGCAGCGAT-1  0.000000     0.0  0.000000      0.0  ...     0.0   \n",
      "C27_TTTGTTGGTGGATCAG-1  0.693147     0.0  0.000000      0.0  ...     0.0   \n",
      "C27_TTTGTTGTCAGCGGAA-1  0.000000     0.0  0.000000      0.0  ...     0.0   \n",
      "C27_TTTGTTGTCTTGTTAC-1  0.000000     0.0  0.693147      0.0  ...     0.0   \n",
      "\n",
      "                        AL022238.4  A4GALT  PNPLA3  CYYR1  ADAMTS5  ERG  \\\n",
      "C26_AAACCCACAAGTGACG-1         0.0     0.0     0.0    0.0      0.0  0.0   \n",
      "C26_AAACCCATCAATCGGT-1         0.0     0.0     0.0    0.0      0.0  0.0   \n",
      "C26_AAACCCATCGAACGGA-1         0.0     0.0     0.0    0.0      0.0  0.0   \n",
      "C26_AAACGAACAACGATTC-1         0.0     0.0     0.0    0.0      0.0  0.0   \n",
      "C26_AAACGAACAAGTGGGT-1         0.0     0.0     0.0    0.0      0.0  0.0   \n",
      "...                            ...     ...     ...    ...      ...  ...   \n",
      "C27_TTTGGTTTCTGGGCCA-1         0.0     0.0     0.0    0.0      0.0  0.0   \n",
      "C27_TTTGTTGAGCAGCGAT-1         0.0     0.0     0.0    0.0      0.0  0.0   \n",
      "C27_TTTGTTGGTGGATCAG-1         0.0     0.0     0.0    0.0      0.0  0.0   \n",
      "C27_TTTGTTGTCAGCGGAA-1         0.0     0.0     0.0    0.0      0.0  0.0   \n",
      "C27_TTTGTTGTCTTGTTAC-1         0.0     0.0     0.0    0.0      0.0  0.0   \n",
      "\n",
      "                        FAM3B  RSPH1  AC145212.1  \n",
      "C26_AAACCCACAAGTGACG-1    0.0    0.0         0.0  \n",
      "C26_AAACCCATCAATCGGT-1    0.0    0.0         0.0  \n",
      "C26_AAACCCATCGAACGGA-1    0.0    0.0         0.0  \n",
      "C26_AAACGAACAACGATTC-1    0.0    0.0         0.0  \n",
      "C26_AAACGAACAAGTGGGT-1    0.0    0.0         0.0  \n",
      "...                       ...    ...         ...  \n",
      "C27_TTTGGTTTCTGGGCCA-1    0.0    0.0         0.0  \n",
      "C27_TTTGTTGAGCAGCGAT-1    0.0    0.0         0.0  \n",
      "C27_TTTGTTGGTGGATCAG-1    0.0    0.0         0.0  \n",
      "C27_TTTGTTGTCAGCGGAA-1    0.0    0.0         0.0  \n",
      "C27_TTTGTTGTCTTGTTAC-1    0.0    0.0         0.0  \n",
      "\n",
      "[9198 rows x 14206 columns]\n"
     ]
    }
   ],
   "source": [
    "print(pbmc)"
   ]
  },
  {
   "cell_type": "code",
   "execution_count": 5,
   "metadata": {},
   "outputs": [
    {
     "name": "stdout",
     "output_type": "stream",
     "text": [
      "                           NOC2L    KLHL17  PLEKHN1  HES4     ISG15  AGRN  \\\n",
      "C26_AAACCCACAAGTGACG-1  0.000000  0.000000      0.0   0.0  1.098612   0.0   \n",
      "C26_AAACCCATCAATCGGT-1  0.000000  0.000000      0.0   0.0  0.000000   0.0   \n",
      "C26_AAACCCATCGAACGGA-1  0.000000  0.000000      0.0   0.0  1.098612   0.0   \n",
      "C26_AAACGAACAACGATTC-1  0.693147  0.000000      0.0   0.0  0.693147   0.0   \n",
      "C26_AAACGAACAAGTGGGT-1  0.000000  0.000000      0.0   0.0  0.693147   0.0   \n",
      "...                          ...       ...      ...   ...       ...   ...   \n",
      "C27_TTTGGTTTCTGGGCCA-1  0.000000  0.000000      0.0   0.0  0.000000   0.0   \n",
      "C27_TTTGTTGAGCAGCGAT-1  0.000000  0.000000      0.0   0.0  0.000000   0.0   \n",
      "C27_TTTGTTGGTGGATCAG-1  0.693147  0.000000      0.0   0.0  0.000000   0.0   \n",
      "C27_TTTGTTGTCAGCGGAA-1  0.000000  0.000000      0.0   0.0  0.000000   0.0   \n",
      "C27_TTTGTTGTCTTGTTAC-1  0.000000  0.693147      0.0   0.0  0.000000   0.0   \n",
      "\n",
      "                        C1orf159  TTLL10  TNFRSF18  TNFRSF4  ...  FAM83F  \\\n",
      "C26_AAACCCACAAGTGACG-1  0.000000     0.0  0.000000      0.0  ...     0.0   \n",
      "C26_AAACCCATCAATCGGT-1  0.000000     0.0  0.000000      0.0  ...     0.0   \n",
      "C26_AAACCCATCGAACGGA-1  0.000000     0.0  0.000000      0.0  ...     0.0   \n",
      "C26_AAACGAACAACGATTC-1  0.000000     0.0  0.000000      0.0  ...     0.0   \n",
      "C26_AAACGAACAAGTGGGT-1  0.000000     0.0  0.000000      0.0  ...     0.0   \n",
      "...                          ...     ...       ...      ...  ...     ...   \n",
      "C27_TTTGGTTTCTGGGCCA-1  0.000000     0.0  0.000000      0.0  ...     0.0   \n",
      "C27_TTTGTTGAGCAGCGAT-1  0.000000     0.0  0.000000      0.0  ...     0.0   \n",
      "C27_TTTGTTGGTGGATCAG-1  0.693147     0.0  0.000000      0.0  ...     0.0   \n",
      "C27_TTTGTTGTCAGCGGAA-1  0.000000     0.0  0.000000      0.0  ...     0.0   \n",
      "C27_TTTGTTGTCTTGTTAC-1  0.000000     0.0  0.693147      0.0  ...     0.0   \n",
      "\n",
      "                        AL022238.4  A4GALT  PNPLA3  CYYR1  ADAMTS5  ERG  \\\n",
      "C26_AAACCCACAAGTGACG-1         0.0     0.0     0.0    0.0      0.0  0.0   \n",
      "C26_AAACCCATCAATCGGT-1         0.0     0.0     0.0    0.0      0.0  0.0   \n",
      "C26_AAACCCATCGAACGGA-1         0.0     0.0     0.0    0.0      0.0  0.0   \n",
      "C26_AAACGAACAACGATTC-1         0.0     0.0     0.0    0.0      0.0  0.0   \n",
      "C26_AAACGAACAAGTGGGT-1         0.0     0.0     0.0    0.0      0.0  0.0   \n",
      "...                            ...     ...     ...    ...      ...  ...   \n",
      "C27_TTTGGTTTCTGGGCCA-1         0.0     0.0     0.0    0.0      0.0  0.0   \n",
      "C27_TTTGTTGAGCAGCGAT-1         0.0     0.0     0.0    0.0      0.0  0.0   \n",
      "C27_TTTGTTGGTGGATCAG-1         0.0     0.0     0.0    0.0      0.0  0.0   \n",
      "C27_TTTGTTGTCAGCGGAA-1         0.0     0.0     0.0    0.0      0.0  0.0   \n",
      "C27_TTTGTTGTCTTGTTAC-1         0.0     0.0     0.0    0.0      0.0  0.0   \n",
      "\n",
      "                        FAM3B  RSPH1  AC145212.1  \n",
      "C26_AAACCCACAAGTGACG-1    0.0    0.0         0.0  \n",
      "C26_AAACCCATCAATCGGT-1    0.0    0.0         0.0  \n",
      "C26_AAACCCATCGAACGGA-1    0.0    0.0         0.0  \n",
      "C26_AAACGAACAACGATTC-1    0.0    0.0         0.0  \n",
      "C26_AAACGAACAAGTGGGT-1    0.0    0.0         0.0  \n",
      "...                       ...    ...         ...  \n",
      "C27_TTTGGTTTCTGGGCCA-1    0.0    0.0         0.0  \n",
      "C27_TTTGTTGAGCAGCGAT-1    0.0    0.0         0.0  \n",
      "C27_TTTGTTGGTGGATCAG-1    0.0    0.0         0.0  \n",
      "C27_TTTGTTGTCAGCGGAA-1    0.0    0.0         0.0  \n",
      "C27_TTTGTTGTCTTGTTAC-1    0.0    0.0         0.0  \n",
      "\n",
      "[9198 rows x 14170 columns]\n"
     ]
    }
   ],
   "source": [
    "# İstenen gen listesi\n",
    "istenmeyen_genler = [\"ARF6\", \"CD37\", \"CD63\", \"CD81\", \"CD9\", \"CHMP1A\", \"CHMP1B\", \"CHMP2A\", \"CHMP2B\", \"CHMP3\", \"CHMP4A\", \"CHMP4B\", \"CHMP5\", \"CHMP6\", \"HGS\", \"HSP90AA1\", \"HSPA4\", \"HSPA8\", \"HSPD1\", \"MVB12A\", \"MVB12B\", \"PDCD6\", \"PDCD6IP\", \"SDCBP\", \"SNF8\", \"STAM\", \"STAM2\", \"TSG101\", \"VPS25\", \"VPS36\", \"VPS37A\", \"VPS37B\", \"VPS37C\", \"VPS37D\", \"VPS4A\", \"VTA1\"]\n",
    "\n",
    "pbmc_new = pbmc.drop(columns=istenmeyen_genler, errors='ignore')\n",
    "\n",
    "# Sonuçları göster\n",
    "print(pbmc_new)"
   ]
  },
  {
   "cell_type": "code",
   "execution_count": 6,
   "metadata": {},
   "outputs": [
    {
     "name": "stdout",
     "output_type": "stream",
     "text": [
      "                        positive     NOC2L    KLHL17  PLEKHN1  HES4     ISG15  \\\n",
      "C26_AAACCCACAAGTGACG-1      0.47  0.000000  0.000000      0.0   0.0  1.098612   \n",
      "C26_AAACCCATCAATCGGT-1      0.42  0.000000  0.000000      0.0   0.0  0.000000   \n",
      "C26_AAACCCATCGAACGGA-1      0.15  0.000000  0.000000      0.0   0.0  1.098612   \n",
      "C26_AAACGAACAACGATTC-1      0.25  0.693147  0.000000      0.0   0.0  0.693147   \n",
      "C26_AAACGAACAAGTGGGT-1      0.67  0.000000  0.000000      0.0   0.0  0.693147   \n",
      "...                          ...       ...       ...      ...   ...       ...   \n",
      "C27_TTTGGTTTCTGGGCCA-1      0.54  0.000000  0.000000      0.0   0.0  0.000000   \n",
      "C27_TTTGTTGAGCAGCGAT-1      0.11  0.000000  0.000000      0.0   0.0  0.000000   \n",
      "C27_TTTGTTGGTGGATCAG-1      0.51  0.693147  0.000000      0.0   0.0  0.000000   \n",
      "C27_TTTGTTGTCAGCGGAA-1      0.47  0.000000  0.000000      0.0   0.0  0.000000   \n",
      "C27_TTTGTTGTCTTGTTAC-1      0.42  0.000000  0.693147      0.0   0.0  0.000000   \n",
      "\n",
      "                        AGRN  C1orf159  TTLL10  TNFRSF18  ...  FAM83F  \\\n",
      "C26_AAACCCACAAGTGACG-1   0.0  0.000000     0.0  0.000000  ...     0.0   \n",
      "C26_AAACCCATCAATCGGT-1   0.0  0.000000     0.0  0.000000  ...     0.0   \n",
      "C26_AAACCCATCGAACGGA-1   0.0  0.000000     0.0  0.000000  ...     0.0   \n",
      "C26_AAACGAACAACGATTC-1   0.0  0.000000     0.0  0.000000  ...     0.0   \n",
      "C26_AAACGAACAAGTGGGT-1   0.0  0.000000     0.0  0.000000  ...     0.0   \n",
      "...                      ...       ...     ...       ...  ...     ...   \n",
      "C27_TTTGGTTTCTGGGCCA-1   0.0  0.000000     0.0  0.000000  ...     0.0   \n",
      "C27_TTTGTTGAGCAGCGAT-1   0.0  0.000000     0.0  0.000000  ...     0.0   \n",
      "C27_TTTGTTGGTGGATCAG-1   0.0  0.693147     0.0  0.000000  ...     0.0   \n",
      "C27_TTTGTTGTCAGCGGAA-1   0.0  0.000000     0.0  0.000000  ...     0.0   \n",
      "C27_TTTGTTGTCTTGTTAC-1   0.0  0.000000     0.0  0.693147  ...     0.0   \n",
      "\n",
      "                        AL022238.4  A4GALT  PNPLA3  CYYR1  ADAMTS5  ERG  \\\n",
      "C26_AAACCCACAAGTGACG-1         0.0     0.0     0.0    0.0      0.0  0.0   \n",
      "C26_AAACCCATCAATCGGT-1         0.0     0.0     0.0    0.0      0.0  0.0   \n",
      "C26_AAACCCATCGAACGGA-1         0.0     0.0     0.0    0.0      0.0  0.0   \n",
      "C26_AAACGAACAACGATTC-1         0.0     0.0     0.0    0.0      0.0  0.0   \n",
      "C26_AAACGAACAAGTGGGT-1         0.0     0.0     0.0    0.0      0.0  0.0   \n",
      "...                            ...     ...     ...    ...      ...  ...   \n",
      "C27_TTTGGTTTCTGGGCCA-1         0.0     0.0     0.0    0.0      0.0  0.0   \n",
      "C27_TTTGTTGAGCAGCGAT-1         0.0     0.0     0.0    0.0      0.0  0.0   \n",
      "C27_TTTGTTGGTGGATCAG-1         0.0     0.0     0.0    0.0      0.0  0.0   \n",
      "C27_TTTGTTGTCAGCGGAA-1         0.0     0.0     0.0    0.0      0.0  0.0   \n",
      "C27_TTTGTTGTCTTGTTAC-1         0.0     0.0     0.0    0.0      0.0  0.0   \n",
      "\n",
      "                        FAM3B  RSPH1  AC145212.1  \n",
      "C26_AAACCCACAAGTGACG-1    0.0    0.0         0.0  \n",
      "C26_AAACCCATCAATCGGT-1    0.0    0.0         0.0  \n",
      "C26_AAACCCATCGAACGGA-1    0.0    0.0         0.0  \n",
      "C26_AAACGAACAACGATTC-1    0.0    0.0         0.0  \n",
      "C26_AAACGAACAAGTGGGT-1    0.0    0.0         0.0  \n",
      "...                       ...    ...         ...  \n",
      "C27_TTTGGTTTCTGGGCCA-1    0.0    0.0         0.0  \n",
      "C27_TTTGTTGAGCAGCGAT-1    0.0    0.0         0.0  \n",
      "C27_TTTGTTGGTGGATCAG-1    0.0    0.0         0.0  \n",
      "C27_TTTGTTGTCAGCGGAA-1    0.0    0.0         0.0  \n",
      "C27_TTTGTTGTCTTGTTAC-1    0.0    0.0         0.0  \n",
      "\n",
      "[9198 rows x 14171 columns]\n"
     ]
    }
   ],
   "source": [
    "merged_df = pd.concat([votes_df_pbmc, pbmc_new], axis=1)\n",
    "\n",
    "# Sonuçları göster\n",
    "print(merged_df)"
   ]
  },
  {
   "cell_type": "code",
   "execution_count": 11,
   "metadata": {},
   "outputs": [
    {
     "name": "stdout",
     "output_type": "stream",
     "text": [
      "[ 0.00260307  0.01575889  0.01075024 ... -0.01685983  0.00207765\n",
      " -0.00896097]\n"
     ]
    }
   ],
   "source": [
    "import pandas as pd\n",
    "from scipy import stats\n",
    "import numpy as np\n",
    "\n",
    "x = merged_df.iloc[:, 0]\n",
    "\n",
    "# Geri kalan sütunları y eksenindeki değerler olarak alalım\n",
    "y = merged_df.iloc[:, 1:]\n",
    "\n",
    "# x ve y'yi birleştirelim\n",
    "data = np.column_stack((x, y))\n",
    "\n",
    "# Pearson korelasyonunu hesaplayalım\n",
    "correlation_matrix = np.corrcoef(data, rowvar=False)\n",
    "\n",
    "# İlk sütun ile diğer sütunlar arasındaki korelasyonları alalım\n",
    "correlations_with_x = correlation_matrix[0, 1:]\n",
    "\n",
    "print(correlations_with_x)"
   ]
  },
  {
   "cell_type": "code",
   "execution_count": 12,
   "metadata": {},
   "outputs": [
    {
     "name": "stdout",
     "output_type": "stream",
     "text": [
      "0.1767114134535478\n"
     ]
    }
   ],
   "source": [
    "# Çıktı değerlerinin en küçüğünü ve en büyüğünü bulma\n",
    "min_correlation = np.amin(correlations_with_x)\n",
    "max_correlation = np.amax(correlations_with_x)\n",
    "print(max_correlation)"
   ]
  },
  {
   "cell_type": "code",
   "execution_count": 13,
   "metadata": {},
   "outputs": [
    {
     "name": "stdout",
     "output_type": "stream",
     "text": [
      "0.1767114134535478\n"
     ]
    }
   ],
   "source": [
    "print(max_correlation)"
   ]
  },
  {
   "cell_type": "code",
   "execution_count": 15,
   "metadata": {},
   "outputs": [
    {
     "name": "stdout",
     "output_type": "stream",
     "text": [
      "Gen: RPS29, Korelasyon Değeri: 0.1767114134535478\n",
      "Gen: RPS25, Korelasyon Değeri: 0.17653842067161069\n",
      "Gen: RPS27, Korelasyon Değeri: 0.17474362344126607\n",
      "Gen: RPS21, Korelasyon Değeri: 0.16936764379776276\n",
      "Gen: RPL30, Korelasyon Değeri: 0.16522082076331698\n",
      "Gen: RPS15A, Korelasyon Değeri: 0.16498323357775083\n",
      "Gen: RPS18, Korelasyon Değeri: 0.16452884084019848\n",
      "Gen: RPL35A, Korelasyon Değeri: 0.16339040221693488\n",
      "Gen: RPS3, Korelasyon Değeri: 0.16186673616188882\n",
      "Gen: RPL3, Korelasyon Değeri: 0.1617807221526306\n",
      "Gen: RPS27A, Korelasyon Değeri: 0.16151686256664338\n",
      "Gen: RPL23A, Korelasyon Değeri: 0.16070404519444778\n",
      "Gen: BCL11B, Korelasyon Değeri: 0.1601212481926875\n",
      "Gen: RPL19, Korelasyon Değeri: 0.1599718300826886\n",
      "Gen: RPS4X, Korelasyon Değeri: 0.15944810742004584\n",
      "Gen: RPL32, Korelasyon Değeri: 0.15932482479511653\n",
      "Gen: RPL38, Korelasyon Değeri: 0.15904308421338\n",
      "Gen: RPS6, Korelasyon Değeri: 0.15839172374120092\n",
      "Gen: RPS12, Korelasyon Değeri: 0.15823841531471364\n",
      "Gen: RPL37, Korelasyon Değeri: 0.15816649136103964\n"
     ]
    }
   ],
   "source": [
    "# Korelasyonları büyükten küçüğe sıralayalım\n",
    "sorted_indices = np.argsort(correlations_with_x)[::-1]\n",
    "\n",
    "# En yüksek 10 korelasyonu ve gen isimlerini alalım\n",
    "top_10_indices = sorted_indices[:20]\n",
    "\n",
    "# Sonuçları yazdıralım\n",
    "for idx in top_10_indices:\n",
    "    gene = merged_df.columns[idx + 1]  # +1 çünkü ilk sütun x ekseninde\n",
    "    correlation = correlations_with_x[idx]\n",
    "    print(f\"Gen: {gene}, Korelasyon Değeri: {correlation}\")\n"
   ]
  },
  {
   "cell_type": "code",
   "execution_count": 16,
   "metadata": {},
   "outputs": [
    {
     "name": "stdout",
     "output_type": "stream",
     "text": [
      "Gen: TYROBP, Korelasyon Değeri: -0.19966773479855615\n",
      "Gen: FCER1G, Korelasyon Değeri: -0.1931556899476471\n",
      "Gen: ACTB, Korelasyon Değeri: -0.18565058595269346\n",
      "Gen: S100A4, Korelasyon Değeri: -0.18332702271348597\n",
      "Gen: LGALS1, Korelasyon Değeri: -0.17544015466334356\n",
      "Gen: CST3, Korelasyon Değeri: -0.17391400377202648\n",
      "Gen: SRGN, Korelasyon Değeri: -0.17369229498360036\n",
      "Gen: S100A6, Korelasyon Değeri: -0.1728578453721849\n",
      "Gen: S100A11, Korelasyon Değeri: -0.17175526280122042\n",
      "Gen: COTL1, Korelasyon Değeri: -0.1704006717695944\n",
      "Gen: CYBA, Korelasyon Değeri: -0.16762656175246946\n",
      "Gen: ANXA2, Korelasyon Değeri: -0.16662661925324662\n",
      "Gen: LST1, Korelasyon Değeri: -0.16515606229934304\n",
      "Gen: LCP1, Korelasyon Değeri: -0.16513089367259065\n",
      "Gen: GAPDH, Korelasyon Değeri: -0.16238501676858175\n",
      "Gen: TNFRSF1B, Korelasyon Değeri: -0.1616013332024106\n",
      "Gen: SPI1, Korelasyon Değeri: -0.16137502798212588\n",
      "Gen: CTSS, Korelasyon Değeri: -0.15998471831147706\n",
      "Gen: FGL2, Korelasyon Değeri: -0.15864332647053134\n",
      "Gen: EFHD2, Korelasyon Değeri: -0.15856697051823512\n"
     ]
    }
   ],
   "source": [
    "# Korelasyonları küçükten büyüğe sıralayalım\n",
    "sorted_indices = np.argsort(correlations_with_x)\n",
    "\n",
    "# En düşük 10 korelasyonu ve gen isimlerini alalım\n",
    "bottom_10_indices = sorted_indices[:20]\n",
    "\n",
    "# Sonuçları yazdıralım\n",
    "for idx in bottom_10_indices:\n",
    "    gene = merged_df.columns[idx + 1]  # +1 çünkü ilk sütun x ekseninde\n",
    "    correlation = correlations_with_x[idx]\n",
    "    print(f\"Gen: {gene}, Korelasyon Değeri: {correlation}\")\n"
   ]
  }
 ],
 "metadata": {
  "kernelspec": {
   "display_name": "randomforest",
   "language": "python",
   "name": "python3"
  },
  "language_info": {
   "codemirror_mode": {
    "name": "ipython",
    "version": 3
   },
   "file_extension": ".py",
   "mimetype": "text/x-python",
   "name": "python",
   "nbconvert_exporter": "python",
   "pygments_lexer": "ipython3",
   "version": "3.11.2"
  }
 },
 "nbformat": 4,
 "nbformat_minor": 2
}
